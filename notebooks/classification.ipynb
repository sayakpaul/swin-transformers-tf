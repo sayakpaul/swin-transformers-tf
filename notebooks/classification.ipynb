{
  "cells": [
    {
      "cell_type": "markdown",
      "id": "zpiEiO2BUeO5",
      "metadata": {
        "id": "zpiEiO2BUeO5"
      },
      "source": [
        "# Off-the-shelf image classification with DeiT models on TF-Hub\n",
        "\n",
        "<table class=\"tfo-notebook-buttons\" align=\"left\">\n",
        "  <td>\n",
        "    <a target=\"_blank\" href=\"https://colab.research.google.com/github/sayakpaul/deit-tf/blob/main/notebooks/classification.ipynb\"><img src=\"https://www.tensorflow.org/images/colab_logo_32px.png\" />Run in Google Colab</a>\n",
        "  </td>\n",
        "  <td>\n",
        "    <a target=\"_blank\" href=\"https://github.com/sayakpaul/deit-tf/blob/main/notebooks/classification.ipynb\"><img src=\"https://www.tensorflow.org/images/GitHub-Mark-32px.png\" />View on GitHub</a>\n",
        "  </td>\n",
        "  <td>\n",
        "    <a href=\"https://tfhub.dev/sayakpaul/collections/deit/1\"><img src=\"https://www.tensorflow.org/images/hub_logo_32px.png\" />See TF Hub models</a>\n",
        "  </td>\n",
        "</table>"
      ]
    },
    {
      "cell_type": "markdown",
      "id": "661e6538",
      "metadata": {
        "id": "661e6538"
      },
      "source": [
        "## Setup"
      ]
    },
    {
      "cell_type": "code",
      "execution_count": null,
      "id": "f2b73e50-6538-4af5-9878-ed99489409f5",
      "metadata": {
        "id": "f2b73e50-6538-4af5-9878-ed99489409f5"
      },
      "outputs": [],
      "source": [
        "!wget https://storage.googleapis.com/bit_models/ilsvrc2012_wordnet_lemmas.txt -O ilsvrc2012_wordnet_lemmas.txt"
      ]
    },
    {
      "cell_type": "code",
      "execution_count": null,
      "id": "43974820-4eeb-4b3a-90b4-9ddfa00d1cb9",
      "metadata": {
        "id": "43974820-4eeb-4b3a-90b4-9ddfa00d1cb9"
      },
      "outputs": [],
      "source": [
        "import tensorflow as tf\n",
        "import tensorflow_hub as hub\n",
        "from tensorflow import keras\n",
        "\n",
        "\n",
        "from PIL import Image\n",
        "from io import BytesIO\n",
        "\n",
        "import matplotlib.pyplot as plt\n",
        "import numpy as np\n",
        "import requests\n",
        "import cv2"
      ]
    },
    {
      "cell_type": "markdown",
      "id": "z5l1cRpiSavW",
      "metadata": {
        "id": "z5l1cRpiSavW"
      },
      "source": [
        "## Select a [DeiT](https://arxiv.org/abs/2012.12877) ImageNet-1k model\n",
        "\n",
        "Find the entire collection [here](https://tfhub.dev/sayakpaul/collections/deit/1)."
      ]
    },
    {
      "cell_type": "code",
      "execution_count": null,
      "id": "a0wM8idaSaOq",
      "metadata": {
        "id": "a0wM8idaSaOq"
      },
      "outputs": [],
      "source": [
        "model_name = \"deit_tiny_patch16_224\" #@param [\"deit_tiny_patch16_224\", \"deit_tiny_distilled_patch16_224\", \"deit_small_patch16_224\", \"deit_small_distilled_patch16_224\", \"deit_base_patch16_224\", \"deit_base_distilled_patch16_224\", \"deit_base_patch16_384\", \"deit_base_distilled_patch16_384\"]\n",
        "\n",
        "model_handle_map ={\n",
        "    \"deit_tiny_patch16_224\": \"https://tfhub.dev/sayakpaul/deit_tiny_patch16_224/1\",\n",
        "    \"deit_tiny_distilled_patch16_224\": \"https://tfhub.dev/sayakpaul/deit_tiny_distilled_patch16_224/1\",\n",
        "    \"deit_small_patch16_224\": \"https://tfhub.dev/sayakpaul/deit_small_patch16_224/1\",\n",
        "    \"deit_small_distilled_patch16_224\": \"https://tfhub.dev/sayakpaul/deit_small_distilled_patch16_224/1\",\n",
        "    \"deit_base_patch16_224\": \"https://tfhub.dev/sayakpaul/deit_base_patch16_224/1\",\n",
        "    \"deit_base_distilled_patch16_224\": \"https://tfhub.dev/sayakpaul/deit_base_distilled_patch16_224/1\",\n",
        "    \"deit_base_patch16_384\": \"https://tfhub.dev/sayakpaul/deit_base_patch16_384/1\",\n",
        "    \"deit_base_distilled_patch16_384\": \"https://tfhub.dev/sayakpaul/deit_base_distilled_patch16_384/1\",\n",
        "\n",
        "}\n",
        "\n",
        "input_resolution = int(model_name.split(\"_\")[-1])\n",
        "model_handle = model_handle_map[model_name]\n",
        "print(f\"Input resolution: {input_resolution} x {input_resolution} x 3.\")\n",
        "print(f\"TF-Hub handle: {model_handle}.\")"
      ]
    },
    {
      "cell_type": "markdown",
      "id": "441b5361",
      "metadata": {
        "id": "441b5361"
      },
      "source": [
        "## Image preprocessing utilities "
      ]
    },
    {
      "cell_type": "code",
      "execution_count": null,
      "id": "63e76ff1-e1e0-4c6a-91b2-4114aad60e5b",
      "metadata": {
        "id": "63e76ff1-e1e0-4c6a-91b2-4114aad60e5b"
      },
      "outputs": [],
      "source": [
        "crop_layer = keras.layers.CenterCrop(input_resolution, input_resolution)\n",
        "norm_layer = keras.layers.Normalization(\n",
        "    mean=[0.485 * 255, 0.456 * 255, 0.406 * 255],\n",
        "    variance=[(0.229 * 255) ** 2, (0.224 * 255) ** 2, (0.225 * 255) ** 2],\n",
        ")\n",
        "\n",
        "\n",
        "def preprocess_image(image, size=input_resolution):\n",
        "    image = np.array(image)\n",
        "    image_resized = tf.expand_dims(image, 0)\n",
        "    resize_size = int((256 / 224) * size)\n",
        "    image_resized = tf.image.resize(image_resized, (resize_size, resize_size), method=\"bicubic\")\n",
        "    image_resized = crop_layer(image_resized)\n",
        "    return norm_layer(image_resized).numpy()\n",
        "    \n",
        "\n",
        "def load_image_from_url(url):\n",
        "    # Credit: Willi Gierke\n",
        "    response = requests.get(url)\n",
        "    image = Image.open(BytesIO(response.content))\n",
        "    preprocessed_image = preprocess_image(image)\n",
        "    return image, preprocessed_image"
      ]
    },
    {
      "cell_type": "markdown",
      "id": "8b961e14",
      "metadata": {
        "id": "8b961e14"
      },
      "source": [
        "## Load ImageNet-1k labels and a demo image"
      ]
    },
    {
      "cell_type": "code",
      "execution_count": null,
      "id": "8dc9250a-5eb6-4547-8893-dd4c746ab53b",
      "metadata": {
        "id": "8dc9250a-5eb6-4547-8893-dd4c746ab53b"
      },
      "outputs": [],
      "source": [
        "with open(\"ilsvrc2012_wordnet_lemmas.txt\", \"r\") as f:\n",
        "    lines = f.readlines()\n",
        "imagenet_int_to_str = [line.rstrip() for line in lines]\n",
        "\n",
        "img_url = \"https://p0.pikrepo.com/preview/853/907/close-up-photo-of-gray-elephant.jpg\"\n",
        "image, preprocessed_image = load_image_from_url(img_url)\n",
        "\n",
        "plt.imshow(image)\n",
        "plt.show()"
      ]
    },
    {
      "cell_type": "markdown",
      "id": "9006a643",
      "metadata": {
        "id": "9006a643"
      },
      "source": [
        "## Run inference"
      ]
    },
    {
      "cell_type": "code",
      "source": [
        "def get_model(model_url: str) -> tf.keras.Model:\n",
        "    inputs = tf.keras.Input((input_resolution, input_resolution, 3))\n",
        "    hub_module = hub.KerasLayer(model_url)\n",
        "\n",
        "    outputs, _ = hub_module(inputs) # Second output in the tuple is a dictionary containing attention scores.\n",
        "\n",
        "    return tf.keras.Model(inputs, outputs)"
      ],
      "metadata": {
        "id": "bHnCyJtAf9el"
      },
      "id": "bHnCyJtAf9el",
      "execution_count": null,
      "outputs": []
    },
    {
      "cell_type": "code",
      "execution_count": null,
      "id": "8dfd2c7d-e454-48da-a40b-cd5d6f6c4908",
      "metadata": {
        "id": "8dfd2c7d-e454-48da-a40b-cd5d6f6c4908"
      },
      "outputs": [],
      "source": [
        "classification_model = get_model(model_handle)\n",
        "predictions = classification_model.predict(preprocessed_image)\n",
        "predicted_label = imagenet_int_to_str[int(np.argmax(predictions))]\n",
        "print(predicted_label)"
      ]
    },
    {
      "cell_type": "markdown",
      "source": [
        "## Obtaining attention scores\n",
        "\n",
        "The models are capable to outputting attention scores (softmax scores) for each of the transformer blocks."
      ],
      "metadata": {
        "id": "TjYSHeldgS8g"
      },
      "id": "TjYSHeldgS8g"
    },
    {
      "cell_type": "code",
      "source": [
        "loaded_model = tf.keras.models.load_model(\n",
        "    f\"gs://tfhub-modules/sayakpaul/{model_name}/1/uncompressed\"\n",
        ")\n",
        "logits, attention_score_dict = loaded_model(preprocessed_image)\n",
        "attention_score_dict.keys()"
      ],
      "metadata": {
        "id": "-duI6KRagabA"
      },
      "id": "-duI6KRagabA",
      "execution_count": null,
      "outputs": []
    },
    {
      "cell_type": "code",
      "source": [
        "# (batch_size, nb_attention_heads, seq_length, seq_length)\n",
        "attention_score_dict[\"transformer_block_5_att\"].shape"
      ],
      "metadata": {
        "id": "RbnxLBBKhbib"
      },
      "id": "RbnxLBBKhbib",
      "execution_count": null,
      "outputs": []
    },
    {
      "cell_type": "markdown",
      "source": [
        "Shoutout to [Aritra](https://github.com/ariG23498) for working on this integration."
      ],
      "metadata": {
        "id": "ya3V5kZwhrjP"
      },
      "id": "ya3V5kZwhrjP"
    },
    {
      "cell_type": "markdown",
      "source": [
        "## Visualizing attention map \n",
        "\n",
        "Code copied and modified from [here](https://colab.research.google.com/github/jeonsworld/ViT-pytorch/blob/main/visualize_attention_map.ipynb)."
      ],
      "metadata": {
        "id": "AvvHi41gTBhw"
      },
      "id": "AvvHi41gTBhw"
    },
    {
      "cell_type": "code",
      "source": [
        "# Stack the individual attention matrices from individual transformer blocks.\n",
        "attn_mat = tf.stack([attention_score_dict[k] for k in attention_score_dict.keys()])\n",
        "attn_mat = tf.squeeze(attn_mat, axis=1)\n",
        "print(attn_mat.shape)\n",
        "\n",
        "# Average the attention weights across all heads.\n",
        "attn_mat = tf.reduce_mean(attn_mat, axis=1)\n",
        "print(attn_mat.shape)\n",
        "\n",
        "# To account for residual connections, we add an identity matrix to the\n",
        "# attention matrix and re-normalize the weights.\n",
        "residual_attn = tf.eye(attn_mat.shape[1])\n",
        "aug_attn_mat = attn_mat + residual_attn\n",
        "aug_attn_mat = aug_attn_mat / tf.reduce_sum(aug_attn_mat, axis=-1)[..., None]\n",
        "aug_attn_mat = aug_attn_mat.numpy()\n",
        "print(aug_attn_mat.shape)\n",
        "\n",
        "# Recursively multiply the weight matrices\n",
        "joint_attentions = np.zeros(aug_attn_mat.shape)\n",
        "joint_attentions[0] = aug_attn_mat[0]\n",
        "\n",
        "for n in range(1, aug_attn_mat.shape[0]):\n",
        "    joint_attentions[n] = np.matmul(aug_attn_mat[n], joint_attentions[n-1])\n",
        "    \n",
        "# Attention from the output token to the input space.\n",
        "v = joint_attentions[-1]\n",
        "grid_size = int(np.sqrt(aug_attn_mat.shape[-1]))\n",
        "mask = v[0, 1:].reshape(grid_size, grid_size)\n",
        "mask = cv2.resize(mask / mask.max(), image.size)[..., np.newaxis]\n",
        "result = (mask * image).astype(\"uint8\")\n",
        "print(result.shape)"
      ],
      "metadata": {
        "id": "l5DaA4DlTKx3"
      },
      "id": "l5DaA4DlTKx3",
      "execution_count": null,
      "outputs": []
    },
    {
      "cell_type": "code",
      "source": [
        "fig, (ax1, ax2) = plt.subplots(ncols=2, figsize=(10, 8))\n",
        "fig.suptitle(f\"Predicted label: {predicted_label}.\", fontsize=20)\n",
        "\n",
        "_ = ax1.imshow(image)\n",
        "_ = ax2.imshow(result)\n",
        "ax1.set_title(\"Input Image\", fontsize=16)\n",
        "ax2.set_title(\"Attention Map\", fontsize=16)\n",
        "ax1.axis(\"off\")\n",
        "ax2.axis(\"off\")\n",
        "\n",
        "fig.tight_layout()\n",
        "fig.subplots_adjust(top=1.35)\n",
        "fig.show()"
      ],
      "metadata": {
        "id": "MuIuTYhPXZcd"
      },
      "id": "MuIuTYhPXZcd",
      "execution_count": null,
      "outputs": []
    },
    {
      "cell_type": "code",
      "source": [
        "fig.savefig(\"attention_map.png\", dpi=300, bbox_inches=\"tight\")"
      ],
      "metadata": {
        "id": "IrZZ6r0GbD9y"
      },
      "id": "IrZZ6r0GbD9y",
      "execution_count": null,
      "outputs": []
    }
  ],
  "metadata": {
    "accelerator": "GPU",
    "colab": {
      "machine_shape": "hm",
      "name": "classification.ipynb",
      "provenance": []
    },
    "environment": {
      "kernel": "python3",
      "name": "tf2-gpu.2-7.m84",
      "type": "gcloud",
      "uri": "gcr.io/deeplearning-platform-release/tf2-gpu.2-7:m84"
    },
    "kernelspec": {
      "display_name": "Python 3 (ipykernel)",
      "language": "python",
      "name": "python3"
    },
    "language_info": {
      "codemirror_mode": {
        "name": "ipython",
        "version": 3
      },
      "file_extension": ".py",
      "mimetype": "text/x-python",
      "name": "python",
      "nbconvert_exporter": "python",
      "pygments_lexer": "ipython3",
      "version": "3.8.2"
    }
  },
  "nbformat": 4,
  "nbformat_minor": 5
}